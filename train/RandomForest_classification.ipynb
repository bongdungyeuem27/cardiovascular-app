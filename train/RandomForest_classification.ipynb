{
  "cells": [
    {
      "cell_type": "code",
      "execution_count": 9,
      "metadata": {
        "colab": {
          "base_uri": "https://localhost:8080/"
        },
        "id": "junnoNmSoVmq",
        "outputId": "e81ee486-61b8-4613-d4c6-f8b8d8f04ec2"
      },
      "outputs": [
        {
          "name": "stdout",
          "output_type": "stream",
          "text": [
            "Drive already mounted at /content/drive; to attempt to forcibly remount, call drive.mount(\"/content/drive\", force_remount=True).\n"
          ]
        }
      ],
      "source": [
        "from google.colab import drive\n",
        "drive.mount('/content/drive')"
      ]
    },
    {
      "cell_type": "code",
      "execution_count": null,
      "metadata": {},
      "outputs": [],
      "source": []
    },
    {
      "cell_type": "code",
      "execution_count": 10,
      "metadata": {
        "colab": {
          "base_uri": "https://localhost:8080/"
        },
        "id": "7DmoeXeIoaxL",
        "outputId": "75c8b55b-2e93-4a1e-f825-9ffadcad1aff"
      },
      "outputs": [
        {
          "name": "stdout",
          "output_type": "stream",
          "text": [
            "   GioiTinh  Tuoi  SoNamDTD  TangHuyetAp  RoiLoanLipid  BenhVongMac  BenhThan  \\\n",
            "0         0    56         1            0             1            0         0   \n",
            "1         0    75         1            1             1            0         0   \n",
            "2         1    39         1            1             1            0         0   \n",
            "3         1    37         1            0             0            0         0   \n",
            "4         0    54         1            0             1            0         0   \n",
            "\n",
            "   NhoiMauCoTim  DotQuy  ThuocLa  ...  DieuTriThuocInsulin  \\\n",
            "0             0       0        0  ...                    0   \n",
            "1             0       0        0  ...                    0   \n",
            "2             0       0        0  ...                    0   \n",
            "3             0       0        0  ...                    1   \n",
            "4             0       0        0  ...                    0   \n",
            "\n",
            "   DieuTriThuocHuyetAp  DieuTriThuocStatin  KhamBanChanPhai  KhamBanChanTrai  \\\n",
            "0                    0                   1                0                0   \n",
            "1                    1                   1                0                0   \n",
            "2                    0                   1                0                0   \n",
            "3                    0                   0                0                0   \n",
            "4                    0                   0                0                0   \n",
            "\n",
            "   TienSuGiaDinh  HbA1C  Creatinin  eGFR  KQPhanTangTimMach  \n",
            "0              0   9.90       56.3  99.0                  2  \n",
            "1              0   9.84       81.5  93.0                  2  \n",
            "2              0   8.70       83.5  93.0                  2  \n",
            "3              0   7.90       96.2  85.0                  2  \n",
            "4              0   9.40       95.7  81.0                  2  \n",
            "\n",
            "[5 rows x 21 columns]\n"
          ]
        }
      ],
      "source": [
        "import pandas as pd\n",
        "\n",
        "# Đọc file CSV\n",
        "file_path = '/content/drive/MyDrive/DoAn_CK_Nhom10/Dataset/Nhom 10_Dataset.csv'\n",
        "data = pd.read_csv(file_path)\n",
        "\n",
        "print(data.head())\n"
      ]
    },
    {
      "cell_type": "code",
      "execution_count": 11,
      "metadata": {
        "colab": {
          "base_uri": "https://localhost:8080/"
        },
        "id": "xpLFltF6ljjl",
        "outputId": "2c7573d0-6c20-4407-f9ea-69a2b9518972"
      },
      "outputs": [
        {
          "name": "stdout",
          "output_type": "stream",
          "text": [
            "Drive already mounted at /content/drive; to attempt to forcibly remount, call drive.mount(\"/content/drive\", force_remount=True).\n"
          ]
        },
        {
          "data": {
            "text/plain": [
              "['/content/drive/MyDrive/DoAn_CK_Nhom10/random_forest_classifier_model.h5']"
            ]
          },
          "execution_count": 11,
          "metadata": {},
          "output_type": "execute_result"
        }
      ],
      "source": [
        "# Import các thư viện cần thiết\n",
        "import pandas as pd\n",
        "from sklearn.ensemble import RandomForestClassifier\n",
        "from sklearn.metrics import accuracy_score, precision_score, recall_score, f1_score\n",
        "from sklearn.preprocessing import StandardScaler\n",
        "import joblib\n",
        "\n",
        "# Xác định các feature (thuộc tính đầu vào) và target (biến mục tiêu)\n",
        "X = data.iloc[:, 0:20]  # Các cột từ 0 đến 19\n",
        "y = data['KQPhanTangTimMach']  # Cột mục tiêu\n",
        "\n",
        "# Chuẩn hóa dữ liệu\n",
        "scaler_X = StandardScaler()\n",
        "X_scaled = scaler_X.fit_transform(X)\n",
        "\n",
        "# Khởi tạo và huấn luyện mô hình Random Forest Classifier\n",
        "model = RandomForestClassifier(n_estimators=100, random_state=42)\n",
        "model.fit(X_scaled, y)\n",
        "\n",
        "# Lưu mô hình thành file h5\n",
        "# Bước 1: Kết nối Google Drive\n",
        "drive.mount('/content/drive')\n",
        "\n",
        "# Bước 2: Xác định đường dẫn để lưu file trên Google Drive\n",
        "model_save_path = '/content/drive/MyDrive/DoAn_CK_Nhom10/random_forest_classifier_model.h5'\n",
        "\n",
        "# Bước 3: Lưu mô hình vào Google Drive\n",
        "joblib.dump(model, model_save_path)"
      ]
    },
    {
      "cell_type": "code",
      "execution_count": null,
      "metadata": {},
      "outputs": [],
      "source": [
        "import tensorflow as tf\n",
        "\n",
        "# Load mô hình từ file .h5\n",
        "model = tf.keras.models.load_model('random_forest_classifier_model.h5')\n",
        "\n",
        "# Lưu mô hình thành SavedModel\n",
        "model.save('saved')"
      ]
    }
  ],
  "metadata": {
    "colab": {
      "provenance": []
    },
    "kernelspec": {
      "display_name": "base",
      "language": "python",
      "name": "python3"
    },
    "language_info": {
      "name": "python",
      "version": "3.10.14"
    }
  },
  "nbformat": 4,
  "nbformat_minor": 0
}
